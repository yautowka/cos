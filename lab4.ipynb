{
 "cells": [
  {
   "cell_type": "markdown",
   "metadata": {
    "id": "0w6UvA-qn6pM"
   },
   "source": [
    "# <center> Практические задания по цифровой обработке сигналов </center>\n",
    "# <center> Четвертая лабораторная работа </center>\n",
    "# <center> Акустические признаки </center>"
   ]
  },
  {
   "cell_type": "code",
   "execution_count": null,
   "metadata": {
    "id": "J0GSSoNkn6pR"
   },
   "outputs": [],
   "source": [
    "import librosa\n",
    "import numpy as np\n",
    "import scipy \n",
    "import scipy.fft\n",
    "import IPython.display as ipd\n",
    "import matplotlib.pyplot as plt\n",
    "import librosa.display\n",
    "import librosa.filters\n",
    "import hashlib\n",
    "from glob import glob\n",
    "import os\n",
    "import sklearn\n",
    "\n",
    "%matplotlib inline\n",
    "\n",
    "import warnings\n",
    "warnings.filterwarnings('ignore')"
   ]
  },
  {
   "cell_type": "markdown",
   "metadata": {
    "id": "Rr_W-9pZpuC8"
   },
   "source": [
    "Функция отрисовки аудио сигнала"
   ]
  },
  {
   "cell_type": "code",
   "execution_count": null,
   "metadata": {
    "id": "x3qCFZRyn6pT"
   },
   "outputs": [],
   "source": [
    "def draw_waveform(wav, sr, figsize=(14, 5)):\n",
    "    # Отрисовка звукового сигнала во временной области\n",
    "    plt.figure(figsize=figsize)\n",
    "    librosa.display.waveplot(wav, sr=sr)\n",
    "    plt.show()"
   ]
  },
  {
   "cell_type": "markdown",
   "metadata": {
    "id": "QUGv1-llpr3y"
   },
   "source": [
    "### Для выполнения задания нам понадобится датасет *yes/no*. \n",
    "Про датасет можно почитать тут https://www.openslr.org/1/"
   ]
  },
  {
   "cell_type": "code",
   "execution_count": null,
   "metadata": {
    "id": "H52jbzgpn6pU"
   },
   "outputs": [],
   "source": [
    "# Скачаем его\n",
    "#  надёжнее использовать скачивание вручную, либо попробовать строчку ниже\n",
    "#![ ! -f  waves_yesno.tar.gz ] && wget https://www.openslr.org/resources/1/waves_yesno.tar.gz\n",
    "# И распакуем\n",
    "!tar -xvzf waves_yesno.tar.gz"
   ]
  },
  {
   "cell_type": "markdown",
   "metadata": {
    "id": "JuJtOLrIpjiT"
   },
   "source": [
    "P.S если у вас Windows, или по каким-либо еще причинам данные не скачались, \n",
    "то их можно скачать руками отсюда: https://www.openslr.org/1/"
   ]
  },
  {
   "cell_type": "markdown",
   "metadata": {
    "id": "mNZbp4LtpmK_"
   },
   "source": [
    "### Загрузим один из файлов"
   ]
  },
  {
   "cell_type": "code",
   "execution_count": null,
   "metadata": {
    "id": "FUAcLVqYn6pU"
   },
   "outputs": [],
   "source": [
    "wav, sr = librosa.load(\"waves_yesno/0_1_0_1_1_1_0_0.wav\")\n",
    "draw_waveform(wav, sr)\n",
    "ipd.Audio(wav, rate=sr)"
   ]
  },
  {
   "cell_type": "markdown",
   "metadata": {
    "id": "ilPOzXVwn6pV"
   },
   "source": [
    "Как можно услышать, в этом датасете произносятся какие-то два слова (yes/no на иврите). Каждый файл состоит из 8 произнесений. Метки слов указаны в названиях файлов."
   ]
  },
  {
   "cell_type": "markdown",
   "metadata": {
    "id": "WJeRPYFWpowf"
   },
   "source": [
    "Построим спектрограмму загруженной вавки"
   ]
  },
  {
   "cell_type": "code",
   "execution_count": null,
   "metadata": {
    "id": "znkj6rthn6pV"
   },
   "outputs": [],
   "source": [
    "stft = librosa.stft(wav)\n",
    "stft_db = librosa.amplitude_to_db(abs(stft))\n",
    "plt.figure(figsize=(15,10))\n",
    "librosa.display.specshow(stft_db, sr=sr, x_axis='time', y_axis='hz')"
   ]
  },
  {
   "cell_type": "markdown",
   "metadata": {
    "id": "CatpEMQGn6pW"
   },
   "source": [
    "# Задание 0.1: Анализ спектрограммы (0.5 балла)\n",
    "1. Посмотрите на спектрограмму и попробуйте найти признаки, по которым можно отличить произнесение \"yes\" от \"no\". \n",
    "1. В каких частотах находится основная энергия этого речевого сигнала? "
   ]
  },
  {
   "cell_type": "markdown",
   "metadata": {
    "id": "noUg5qG8p34B"
   },
   "source": [
    "### 1. Посмотрите на спектрограмму и попробуйте найти признаки, по которым можно отличить произнесение \"yes\" от \"no\". "
   ]
  },
  {
   "cell_type": "code",
   "execution_count": null,
   "metadata": {
    "id": "MgL-SbXGp3c7"
   },
   "outputs": [],
   "source": [
    "# YOUR ANSWER HERE"
   ]
  },
  {
   "cell_type": "markdown",
   "metadata": {
    "id": "lWnlCpE5p7em"
   },
   "source": [
    "### 2. В каких частотах находится основная энергия этого речевого сигнала?"
   ]
  },
  {
   "cell_type": "code",
   "execution_count": null,
   "metadata": {
    "id": "i_uxtr4wqDA0"
   },
   "outputs": [],
   "source": [
    "# YOUR ANSWER HERE"
   ]
  },
  {
   "cell_type": "markdown",
   "metadata": {
    "id": "XuCV6Vsin6pX"
   },
   "source": [
    "# Задание 1: Мел-шкала (1 балл)\n",
    "Нарисовать спектрограму в [mel-шкале](https://en.wikipedia.org/wiki/Mel_scale). \n",
    "Использовать формулу, представленную Дугласом О'Шонесси."
   ]
  },
  {
   "cell_type": "code",
   "execution_count": null,
   "metadata": {
    "id": "xw7JGx5nn6pY"
   },
   "outputs": [],
   "source": [
    "def mel(spec):\n",
    "    #spec - stft spectrogram\n",
    "    \n",
    "    # YOUR CODE HERE\n",
    "    \n",
    "    raise NotImplementedError()"
   ]
  },
  {
   "cell_type": "code",
   "execution_count": null,
   "metadata": {
    "id": "riViNwx3n6pY"
   },
   "outputs": [],
   "source": [
    "def test_mel():\n",
    "    x = np.random.randint(100, size=(1000, 100))\n",
    "    x_mel = mel(x)\n",
    "    x_hz = 700.0 * (10.0 ** (x_mel / 2595.0) - 1.0)\n",
    "    assert np.allclose(x, x_hz), \"TEST Hertz -> Mel -> Hertz  failed. \"\n",
    "    print(\"All ok!\")\n",
    "\n",
    "test_mel()"
   ]
  },
  {
   "cell_type": "markdown",
   "metadata": {
    "id": "w37RflOvn6pZ"
   },
   "source": [
    "# Мел-фильтры\n",
    "Одними из наиболее популярных акустических признаков являются Filter Banks (fbanks). \n",
    "fbanks вычисляются применением нескольких (количество фильтров = количество fbanks) треугольных фильтров к мел-спектрограмме. Чтобы не делать два действия со спектрограммой, переход к мел-шкале и применение фильтров в мел-шкале можно заменить на перевод мел-фильтров в Герц-шкалу и применение их к Герц-спектрограмме.\n",
    "\n",
    "\n",
    "\n",
    "# Задание 2 (3 балла)\n",
    "<!-- Реализуйте функцию вычисления fbank по формулам библиотеки librosa.  -->"
   ]
  },
  {
   "cell_type": "markdown",
   "metadata": {
    "id": "5odTLmyBuWq3"
   },
   "source": [
    "### Мел-фильтры"
   ]
  },
  {
   "cell_type": "markdown",
   "metadata": {
    "id": "oc4vydyus9D4"
   },
   "source": [
    "Реализуйте функцию вычисления fbank.\n",
    "Помимо лекций описание формул можно посмотреть тут: https://studbooks.net/2037683/informatika/raschyot_filtrov. "
   ]
  },
  {
   "cell_type": "code",
   "execution_count": null,
   "metadata": {
    "id": "gbw9tnJVtFiC"
   },
   "outputs": [],
   "source": [
    "def mel_filters_pure(sr, n_fft, n_mels):\n",
    "    # функция построения треугольных мел-фильтров в герц-шкале\n",
    "    # sr - sample rate\n",
    "    # n_fft - length of the FFT window \n",
    "    # n_mels - number of filters\n",
    "    # return mel filters matrix. [n_mel, n_fft]\n",
    "\n",
    "    # YOUR CODE HERE\n",
    "    \n",
    "    raise NotImplementedError"
   ]
  },
  {
   "cell_type": "markdown",
   "metadata": {
    "id": "Eo66V1dPucJB"
   },
   "source": [
    "Обратите внимание что реализации базовых функций таких как вычисления fbank могут отличаться в различных широко используемых библиотеках. Как правило это не критично для большинства практических задач, но бывают сложности при поиске ошибок и сравнении реализаций. \n",
    "Реализуйте функцию вычисления fbank по формулам библиотеки librosa по аналогии с открытым исходным кодом. Формулы, используемые в библиотеке librosa, отличаются от используемых в лекциях и некоторых других источниках. Обратите внимание на использование np.diff и np.substract, а также на нормализацию slaney. https://librosa.org/doc/latest/_modules/librosa/filters.html#mel"
   ]
  },
  {
   "cell_type": "code",
   "execution_count": null,
   "metadata": {
    "id": "c-oOjgASn6pb"
   },
   "outputs": [],
   "source": [
    "def mel_filters_librosa(sr, n_fft, n_mels):\n",
    "    # функция построения треугольных мел-фильтров в герц-шкале\n",
    "    # sr - sample rate\n",
    "    # n_fft - length of the FFT window \n",
    "    # n_mels - number of filters\n",
    "    # return mel filters matrix. [n_mel, n_fft]\n",
    "\n",
    "    # YOUR CODE HERE\n",
    "    \n",
    "    raise NotImplementedError"
   ]
  },
  {
   "cell_type": "code",
   "execution_count": null,
   "metadata": {
    "id": "i2zqHeqVn6pb"
   },
   "outputs": [],
   "source": [
    "assert mel_filters_librosa(32, 46, 4).shape == (4, 24) and \\\n",
    "    mel_filters_librosa(65, 45, 5).shape == (5, 23), \"Wrong shape\"\n",
    "assert np.allclose(mel_filters_librosa(16, 8, 4), librosa.filters.mel(16, 8, n_mels=4, htk=True))\n",
    "assert np.allclose(mel_filters_librosa(8600, 512, 40), librosa.filters.mel(8600, 512, n_mels=40, htk=True))\n",
    "print(\"All ok!\")"
   ]
  },
  {
   "cell_type": "markdown",
   "metadata": {
    "id": "lqH7hZoSvJuc"
   },
   "source": [
    "Можно заметить, что есть небольшое расхождение в результатах формул. Для большенства практических задач это не существенно, но эти различия полезно знать при собственных экспериментах с аудио фичами а так же в случаях отладки и поиске ошибок."
   ]
  },
  {
   "cell_type": "markdown",
   "metadata": {
    "id": "S2HFnF9nuvT3"
   },
   "source": [
    "Далее будем использовать функцию *mel_filters_librosa*"
   ]
  },
  {
   "cell_type": "code",
   "execution_count": null,
   "metadata": {
    "id": "xE-BacpAn6pb"
   },
   "outputs": [],
   "source": [
    "def get_fbanks(wav: np.ndarray, sr: int, window_ms=25, step_ms=10, n_fbanks=40):\n",
    "    # wav - input signal\n",
    "    # sr - sample rate\n",
    "    # window_ms - window length in milliseconds\n",
    "    # step_ms - stft step in milliseconds\n",
    "    # n_fbanks - number of filters\n",
    "    # return fbank matrix [n_fbanks, time]\n",
    "    \n",
    "    # YOUR CODE HERE\n",
    "        \n",
    "    raise NotImplementedError"
   ]
  },
  {
   "cell_type": "code",
   "execution_count": null,
   "metadata": {
    "id": "auz6n2uEn6pc"
   },
   "outputs": [],
   "source": [
    "def test_fbank(wav, sr, window_ms=25, step_ms=10, n_fbanks=40):\n",
    "    n_fft = window_ms * sr//1000\n",
    "    hop_length = step_ms * sr//1000\n",
    "    fbanks_lib = librosa.feature.melspectrogram(wav, sr, n_fft=n_fft, hop_length=hop_length, n_mels=n_fbanks, htk=True)\n",
    "    fbanks = get_fbanks(wav, sr, window_ms=window_ms, step_ms=step_ms, n_fbanks=n_fbanks)\n",
    "\n",
    "    if fbanks_lib.shape != fbanks.shape:\n",
    "        print(\"TEST FAILED\")\n",
    "        print(f\"Shape {fbanks_lib.shape} != {fbanks.shape}\")\n",
    "        return 1\n",
    "\n",
    "    if not np.allclose(fbanks_lib, fbanks):\n",
    "        print('TEST PASSED BUT WITH CALCULATION ERROR')\n",
    "        print(f\"Average diff is {np.mean(np.abs(fbanks_lib - fbanks))}\")\n",
    "        return np.mean(np.abs(fbanks_lib - fbanks))\n",
    "        \n",
    "    print(\"TEST PASSED\")\n",
    "    return 0\n",
    "\n",
    "assert test_fbank(wav[:sr*1], sr) <= 0.0003, \"1 sec wav test failed\"\n",
    "assert test_fbank(wav, sr) <= 0.0003, \"All wav test failed\"\n",
    "print(\"All ok!\")"
   ]
  },
  {
   "cell_type": "code",
   "execution_count": null,
   "metadata": {
    "id": "UmH5LFmSx6KC"
   },
   "outputs": [],
   "source": [
    "window_ms = 25\n",
    "step_ms = 10\n",
    "n_fbanks = 40\n",
    "n_fft = window_ms * sr//1000\n",
    "hop_length = step_ms * sr//1000"
   ]
  },
  {
   "cell_type": "markdown",
   "metadata": {
    "id": "Gav_plagyD5a"
   },
   "source": [
    "Визуализируем полученные фильтрбанки самописными функциями и функциями либросы:"
   ]
  },
  {
   "cell_type": "code",
   "execution_count": null,
   "metadata": {
    "id": "YMQL-Q1kn6pc"
   },
   "outputs": [],
   "source": [
    "fbanks = get_fbanks(wav, sr)\n",
    "plt.figure(figsize=(15,10))\n",
    "librosa.display.specshow(librosa.power_to_db(fbanks), sr=sr, x_axis='time')\n",
    "plt.ylabel(\"Filter number\")\n",
    "plt.show()"
   ]
  },
  {
   "cell_type": "code",
   "execution_count": null,
   "metadata": {
    "id": "tOoPSy0OyRoD"
   },
   "outputs": [],
   "source": [
    "fbanks_lib = librosa.feature.melspectrogram(wav, sr, n_fft=n_fft, hop_length=hop_length, n_mels=n_fbanks, htk=True)\n",
    "plt.figure(figsize=(10,5))\n",
    "librosa.display.specshow(librosa.power_to_db(fbanks_lib), sr=sr, x_axis='time')\n",
    "plt.ylabel(\"Filter number\")\n",
    "plt.show()"
   ]
  },
  {
   "cell_type": "markdown",
   "metadata": {
    "id": "SkT_SANPn6pc"
   },
   "source": [
    "# Задание 4 (3 балла)\n",
    "Реализовать вычисление [mfcc](https://en.wikipedia.org/wiki/Mel-frequency_cepstrum)\n",
    "\n"
   ]
  },
  {
   "cell_type": "code",
   "execution_count": null,
   "metadata": {
    "id": "evYty0OKn6pc"
   },
   "outputs": [],
   "source": [
    "def get_mfcc(wav: np.ndarray, sr: int, window_ms=25, step_ms=10, n_mfcc=13):\n",
    "      # wav - input signal\n",
    "    # sr - sample rate\n",
    "    # window_ms - window length in milliseconds\n",
    "    # step_ms - stft step in milliseconds\n",
    "    # n_mfcc - number of filters\n",
    "    # return mfcc matrix [n_mfcc, time]\n",
    "    \n",
    "    # YOUR CODE HERE\n",
    "   \n",
    "    raise NotImplementedError()"
   ]
  },
  {
   "cell_type": "markdown",
   "metadata": {
    "id": "6PK9eKEWzm-u"
   },
   "source": [
    "Возможно, появится ошибка вычислений. Надо просто смириться с тем, что она есть, и сделать так, чтобы она была ниже допустимой:"
   ]
  },
  {
   "cell_type": "code",
   "execution_count": null,
   "metadata": {
    "id": "4dT-TKwpn6pd"
   },
   "outputs": [],
   "source": [
    "def test_mfcc(wav, sr, window_ms=25, step_ms=10, n_mfcc=13):\n",
    "    n_fft = window_ms * sr//1000\n",
    "    hop_length = step_ms * sr//1000\n",
    "    mfcc_lib = librosa.feature.mfcc(wav, sr, n_fft=n_fft, hop_length=hop_length, n_mfcc=n_mfcc, htk=True)\n",
    "    mfcc = get_mfcc(wav, sr, window_ms=window_ms, step_ms=step_ms, n_mfcc=n_mfcc)\n",
    "    \n",
    "    if mfcc_lib.shape != mfcc.shape:\n",
    "        print(\"TEST PASSED BUT WITH CALCULATION ERROR!\")\n",
    "        print(f\"Shape {mfcc_lib.shape} != {mfcc.shape}\")\n",
    "        return 1\n",
    "\n",
    "    if not np.allclose(mfcc_lib, mfcc):\n",
    "        print(\"TEST PASSED BUT WITH CALCULATION ERROR\")\n",
    "        print(f\"Average diff is {np.mean(np.abs(mfcc_lib - mfcc))}\")\n",
    "        return np.mean(np.abs(mfcc_lib - mfcc))\n",
    "\n",
    "    print(\"TEST PASSED\")\n",
    "    return 0\n",
    "\n",
    "assert test_mfcc(wav[:sr*1], sr) <= 0.0005, \"1 sec wav test failed\"\n",
    "assert test_mfcc(wav, sr) <= 0.0005, \"All wav test failed\"\n",
    "print(\"All ok!\")"
   ]
  },
  {
   "cell_type": "markdown",
   "metadata": {
    "id": "S4d4CqP9yoGO"
   },
   "source": [
    "Визуализируем *mfcc*"
   ]
  },
  {
   "cell_type": "code",
   "execution_count": null,
   "metadata": {
    "id": "f_cZwFJVn6pd"
   },
   "outputs": [],
   "source": [
    "mfcc = get_mfcc(wav, sr)\n",
    "plt.figure(figsize=(15,10))\n",
    "librosa.display.specshow(mfcc, sr=sr, x_axis='time')\n",
    "plt.ylabel(\"Filter number\")\n",
    "plt.show()"
   ]
  },
  {
   "cell_type": "markdown",
   "metadata": {
    "id": "y3Zh5HZpn6pd"
   },
   "source": [
    "# Классификация слов\n",
    "Построим простую систему, классифицирующую слова yes/no."
   ]
  },
  {
   "cell_type": "markdown",
   "metadata": {
    "id": "cyTen3twn6pe"
   },
   "source": [
    "Загрузим весь датасет"
   ]
  },
  {
   "cell_type": "code",
   "execution_count": null,
   "metadata": {
    "id": "hmI_2r4nn6pe"
   },
   "outputs": [],
   "source": [
    "def load_yn_dataset(directory):\n",
    "    X, labels = [], []\n",
    "    bad_files = set([\"0_1_0_1_0_0_0_0\"])\n",
    "    for f in glob(directory +\"/*.wav\"):\n",
    "        name = os.path.basename(f)[:-4]\n",
    "        if name in bad_files:\n",
    "            continue\n",
    "        y = [int(l) for l in name.split(\"_\")]\n",
    "        x, _ = librosa.load(f)\n",
    "        X.append(x)\n",
    "        labels.append(y)\n",
    "        \n",
    "    return X, labels\n",
    "        \n",
    "X, Y = load_yn_dataset(\"waves_yesno/\")"
   ]
  },
  {
   "cell_type": "markdown",
   "metadata": {
    "id": "5jArzE7Myzlm"
   },
   "source": [
    "Послушаем одну вавку:"
   ]
  },
  {
   "cell_type": "code",
   "execution_count": null,
   "metadata": {
    "id": "PmIi1wKky1vk"
   },
   "outputs": [],
   "source": [
    "wav, sr = librosa.load(\"waves_yesno/0_1_0_1_0_0_0_0.wav\")\n",
    "ipd.Audio(wav, rate=sr)"
   ]
  },
  {
   "cell_type": "markdown",
   "metadata": {
    "id": "IGFEahl0n6pe"
   },
   "source": [
    "Отделим 20% для теста"
   ]
  },
  {
   "cell_type": "code",
   "execution_count": null,
   "metadata": {
    "id": "Dck3J1uSn6pe"
   },
   "outputs": [],
   "source": [
    "X_train, X_test, Y_train, Y_test = sklearn.model_selection.train_test_split(X, Y,test_size=0.2, random_state=1)"
   ]
  },
  {
   "cell_type": "markdown",
   "metadata": {
    "id": "3WAOCPKjn6pe"
   },
   "source": [
    "# Задание *5 (1 балл)\n",
    "Voice Activity Detector (VAD) определяет, есть ли речь в текущем кадре.\n",
    "Реализуйте простой VAD. Настройте VAD, чтобы хорошо определялись границы слов.\n",
    "\n",
    "Подсказка:\n",
    "Можно отличать паузу от речи по энергии mfcc спектра( или части спектра). Чтобы предотвратить скачки на краях слов, воспользуйтесь сверткой со сглаживающим окном, например, Ханна."
   ]
  },
  {
   "cell_type": "code",
   "execution_count": null,
   "metadata": {
    "id": "Nssjgv7Yn6pe"
   },
   "outputs": [],
   "source": [
    "# YOUR CODE HERE\n",
    "\n",
    "# train_VA = # List[np.ndarray]. 1 - Voice, 0 - silence\n",
    "# test_VA = # List[np.ndarray]. 1 - Voice, 0 - silence"
   ]
  },
  {
   "cell_type": "code",
   "execution_count": null,
   "metadata": {
    "id": "EmbvyGbAn6pf"
   },
   "outputs": [],
   "source": [
    "def test_VAD(VOICE, VA, Y, min_acc=0.95):\n",
    "    def check_ali(ali, num_words):\n",
    "        diff = ali[1:]  - ali[:-1]\n",
    "        if diff.sum()!=0:\n",
    "            print(\"VAD detected speech at the beginning (or end) of audio\")\n",
    "            return -1 \n",
    "        if not (diff > 0).sum() == (diff > 0).sum() == num_words:\n",
    "            return -2\n",
    "        return 0\n",
    "    \n",
    "    bad_i = []\n",
    "    err =0\n",
    "    for i, (ali, y) in enumerate(zip(VA, Y)):\n",
    "        assert len(VOICE[i]) == len(ali), \"shapes doesn't match\"\n",
    "        if check_ali(ali, len(y)) != 0:\n",
    "            bad_i.append(i)\n",
    "            err+=1\n",
    "    acc = (len(Y) - err)/len(Y)\n",
    "    print(f\"Accuracy {acc}\")\n",
    "    if len(bad_i) >0:\n",
    "        print(f\"ids with error {bad_i}\")\n",
    "    assert acc >= min_acc , f\"Accuracy must be >= {min_acc}\"\n",
    "    print(\"Test passed\")\n",
    "\n",
    "test_VAD(X_train, train_VA, Y_train)\n",
    "test_VAD(X_test, test_VA, Y_test)\n",
    "print(\"VAD ok!\")"
   ]
  },
  {
   "cell_type": "markdown",
   "metadata": {
    "id": "Xq6UUzfMn6pf"
   },
   "source": [
    "# Задание *6 (2 балла)\n",
    "Обучите классификатор, определяющий, какое слово было сказано. Используйте VAD для разбиения входных файлов на отдельные слова. Классификацию можно сделать, например, с помощью SVM по усредненным признаки выделеных VAD'ом слов. Или любым другим удобным для вас способом. Добейтесь точности больше 0.95"
   ]
  },
  {
   "cell_type": "code",
   "execution_count": null,
   "metadata": {
    "id": "4uYGIEkmn6pf"
   },
   "outputs": [],
   "source": [
    "# YOUR CODE HERE"
   ]
  },
  {
   "cell_type": "markdown",
   "metadata": {
    "id": "5Qu2OnRmzRNY"
   },
   "source": [
    "### Результаты"
   ]
  },
  {
   "cell_type": "markdown",
   "metadata": {
    "id": "u0IxlVYMzStk"
   },
   "source": [
    "Визуализируйте кривые обучения классификатора или приведите логи обучения"
   ]
  },
  {
   "cell_type": "code",
   "execution_count": null,
   "metadata": {
    "id": "phlDWtgqza8E"
   },
   "outputs": [],
   "source": [
    "# YOUR CODE HERE"
   ]
  }
 ],
 "metadata": {
  "colab": {
   "collapsed_sections": [],
   "name": "lab4.ipynb",
   "provenance": []
  },
  "kernelspec": {
   "display_name": "Python 3 (ipykernel)",
   "language": "python",
   "name": "python3"
  },
  "language_info": {
   "codemirror_mode": {
    "name": "ipython",
    "version": 3
   },
   "file_extension": ".py",
   "mimetype": "text/x-python",
   "name": "python",
   "nbconvert_exporter": "python",
   "pygments_lexer": "ipython3",
   "version": "3.9.7"
  }
 },
 "nbformat": 4,
 "nbformat_minor": 1
}
